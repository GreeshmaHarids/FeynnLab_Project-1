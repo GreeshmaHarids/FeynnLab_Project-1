{
  "nbformat": 4,
  "nbformat_minor": 0,
  "metadata": {
    "colab": {
      "provenance": [],
      "authorship_tag": "ABX9TyNy1Qfwb+ny8mEeCD4fEyps",
      "include_colab_link": true
    },
    "kernelspec": {
      "name": "python3",
      "display_name": "Python 3"
    },
    "language_info": {
      "name": "python"
    }
  },
  "cells": [
    {
      "cell_type": "markdown",
      "metadata": {
        "id": "view-in-github",
        "colab_type": "text"
      },
      "source": [
        "<a href=\"https://colab.research.google.com/github/GreeshmaHarids/FeynnLab_Projects/blob/main/Code_Implementation_project_1.ipynb\" target=\"_parent\"><img src=\"https://colab.research.google.com/assets/colab-badge.svg\" alt=\"Open In Colab\"/></a>"
      ]
    },
    {
      "cell_type": "markdown",
      "source": [
        "#**Code Implementation**\n",
        "This report outlines the implementation of a synthetic data generation process and a recommendation system for a service matching application. The code demonstrates the creation of mock data for users, service providers, and service requests, followed by data visualizations and exploratory analysis. A recommendation system is implemented to match users with service providers based on their preferences and expertise, utilizing TF-IDF vectorization and cosine similarity."
      ],
      "metadata": {
        "id": "iuoVgXotwJpg"
      }
    },
    {
      "cell_type": "markdown",
      "source": [
        "##1.Data Generation\n",
        "creating synthetic datasets for users, service providers, and service requests to simulate a real-world scenario.\n",
        "*  User Data: Generates data for 50 users with random names, job preferences, and cities.\n",
        "*   Service Provider Data: Generates data for 50 service providers with random names, expertise areas, cities, and ratings.\n",
        "*   Service Request Data: Creates 2000 service requests linking users and providers with random statuses (Completed, Pending, Cancelled).\n",
        "\n",
        "\n",
        "\n",
        "\n",
        "\n"
      ],
      "metadata": {
        "id": "sJBJDhgpKxf1"
      }
    },
    {
      "cell_type": "code",
      "source": [
        "import pandas as pd\n",
        "import numpy as np\n",
        "from faker import Faker\n",
        "from sklearn.feature_extraction.text import TfidfVectorizer\n",
        "from sklearn.metrics.pairwise import cosine_similarity\n",
        "from sklearn.model_selection import train_test_split\n",
        "from sklearn.linear_model import LogisticRegression\n",
        "from sklearn.metrics import accuracy_score\n",
        "import matplotlib.pyplot as plt\n",
        "\n",
        "\n",
        "\n",
        "# Initialize Faker\n",
        "fake = Faker()\n",
        "\n",
        "# Generate User Data\n",
        "user_data = pd.DataFrame({\n",
        "    'User_ID': range(1, 51),\n",
        "    'Name': [fake.name() for _ in range(50)],\n",
        "    'Preferences': [fake.job() for _ in range(50)],\n",
        "    'Region': [fake.city() for _ in range(50)]\n",
        "})\n",
        "\n",
        "# Generate Service Provider Data\n",
        "provider_data = pd.DataFrame({\n",
        "    'Provider_ID': range(1, 51),\n",
        "    'Name': [fake.name() for _ in range(50)],\n",
        "    'Expertise': [fake.job() for _ in range(50)],\n",
        "    'Region': [fake.city() for _ in range(50)],\n",
        "    'Rating': np.random.uniform(1, 5, 50).round(1)\n",
        "})\n",
        "\n",
        "# Generate Service Request Data\n",
        "num_requests = 2000\n",
        "request_data = pd.DataFrame({\n",
        "    'Request_ID': range(1, num_requests + 1),\n",
        "    'User_ID': np.random.choice(user_data['User_ID'], num_requests),\n",
        "    'Provider_ID': np.random.choice(provider_data['Provider_ID'], num_requests),\n",
        "    'Status': np.random.choice(['Completed', 'Pending', 'Cancelled'], num_requests)\n",
        "})\n",
        "\n",
        "\n",
        "# Display the first few rows of each DataFrame\n",
        "print(\"User Data:\")\n",
        "print(user_data.head())\n",
        "print(\"\\nProvider Data:\")\n",
        "print(provider_data.head())\n",
        "print(\"Sample Service Request Data:\")\n",
        "print(request_data.head())\n",
        "\n",
        "\n"
      ],
      "metadata": {
        "colab": {
          "base_uri": "https://localhost:8080/"
        },
        "id": "4DwAJVEPJZQ3",
        "outputId": "7ffa5158-6617-4116-814a-9f168b5f20f8"
      },
      "execution_count": null,
      "outputs": [
        {
          "output_type": "stream",
          "name": "stdout",
          "text": [
            "User Data:\n",
            "   User_ID               Name                      Preferences  \\\n",
            "0        1     Michaela Smith                 Doctor, hospital   \n",
            "1        2      Mason Sanders  Environmental education officer   \n",
            "2        3    Monica Gonzalez          Rural practice surveyor   \n",
            "3        4  Christopher Wiley                         Best boy   \n",
            "4        5        Tamara Kidd  Runner, broadcasting/film/video   \n",
            "\n",
            "               Region  \n",
            "0        Carrollmouth  \n",
            "1        Lake Bethany  \n",
            "2            Bondport  \n",
            "3  West Michellemouth  \n",
            "4    West Jeromeshire  \n",
            "\n",
            "Provider Data:\n",
            "   Provider_ID            Name                    Expertise            Region  \\\n",
            "0            1  Lorraine Tapia  Civil Service fast streamer    East Joelville   \n",
            "1            2   Rachel Fisher           Arts administrator        West James   \n",
            "2            3      Lisa Berry     Environmental consultant          Ericaton   \n",
            "3            4  Karen Anderson            Film/video editor       Kruegerstad   \n",
            "4            5    Heather Diaz     Television floor manager  Lake Darleneport   \n",
            "\n",
            "   Rating  \n",
            "0     2.6  \n",
            "1     4.9  \n",
            "2     4.3  \n",
            "3     3.3  \n",
            "4     3.0  \n",
            "Sample Service Request Data:\n",
            "   Request_ID  User_ID  Provider_ID     Status\n",
            "0           1       24           42    Pending\n",
            "1           2       35           30    Pending\n",
            "2           3       20           19  Completed\n",
            "3           4        3           35    Pending\n",
            "4           5       41           47    Pending\n"
          ]
        }
      ]
    },
    {
      "cell_type": "markdown",
      "source": [
        "##Visualization and Exploratory Data Analysis (EDA)\n",
        "Visualizations:\n",
        "\n",
        "\n",
        "*   Distribution of Ratings: Used a histogram to show the frequency distribution of provider ratings.\n",
        "*   Service Request Status Distribution: Created a bar chart to display the count of different service request statuses (Completed, Pending, Cancelled)\n",
        "\n",
        "EDA:\n",
        "\n",
        "\n",
        "\n",
        "*  Checked for Missing Values: Verified that there are no missing values in critical fields of the datasets.\n",
        "*   Descriptive Statistics: Summarized key metrics, such as mean, median, and standard deviation, for the provider ratings.\n",
        "\n",
        "\n"
      ],
      "metadata": {
        "id": "UaT9eT08gwna"
      }
    },
    {
      "cell_type": "code",
      "source": [
        "# Distribution of Ratings\n",
        "plt.figure(figsize=(8, 4))\n",
        "plt.hist(provider_data['Rating'], bins=5, edgecolor='black')\n",
        "plt.title('Distribution of Provider Ratings')\n",
        "plt.xlabel('Rating')\n",
        "plt.ylabel('Frequency')\n",
        "plt.show()\n",
        "\n",
        "# Status Count\n",
        "plt.figure(figsize=(8, 4))\n",
        "request_data['Status'].value_counts().plot(kind='bar', color='skyblue')\n",
        "plt.title('Service Request Status Distribution')\n",
        "plt.xlabel('Status')\n",
        "plt.ylabel('Count')\n",
        "plt.show()\n"
      ],
      "metadata": {
        "colab": {
          "base_uri": "https://localhost:8080/",
          "height": 865
        },
        "id": "j_YdPCN-gv4U",
        "outputId": "b6b8c789-216b-4411-98fb-53ebd24f5271"
      },
      "execution_count": null,
      "outputs": [
        {
          "output_type": "display_data",
          "data": {
            "text/plain": [
              "<Figure size 800x400 with 1 Axes>"
            ],
            "image/png": "[encoded data removed]"
          },
          "metadata": {}
        },
        {
          "output_type": "display_data",
          "data": {
            "text/plain": [
              "<Figure size 800x400 with 1 Axes>"
            ],
            "image/png": "[encoded data removed]"
          },
          "metadata": {}
        }
      ]
    },
    {
      "cell_type": "code",
      "source": [
        "# Check for Missing Values\n",
        "print(\"Missing Values in User Data:\")\n",
        "print(user_data.isnull().sum())\n",
        "\n",
        "print(\"\\nMissing Values in Provider Data:\")\n",
        "print(provider_data.isnull().sum())\n",
        "\n",
        "print(\"\\nMissing Values in Request Data:\")\n",
        "print(request_data.isnull().sum())\n"
      ],
      "metadata": {
        "colab": {
          "base_uri": "https://localhost:8080/"
        },
        "id": "TZ0EHZvWzNc9",
        "outputId": "ca1cd269-4842-4550-8409-9818e7def7eb"
      },
      "execution_count": null,
      "outputs": [
        {
          "output_type": "stream",
          "name": "stdout",
          "text": [
            "Missing Values in User Data:\n",
            "User_ID        0\n",
            "Name           0\n",
            "Preferences    0\n",
            "Region         0\n",
            "dtype: int64\n",
            "\n",
            "Missing Values in Provider Data:\n",
            "Provider_ID    0\n",
            "Name           0\n",
            "Expertise      0\n",
            "Region         0\n",
            "Rating         0\n",
            "dtype: int64\n",
            "\n",
            "Missing Values in Request Data:\n",
            "Request_ID     0\n",
            "User_ID        0\n",
            "Provider_ID    0\n",
            "Status         0\n",
            "Status_Code    0\n",
            "dtype: int64\n"
          ]
        }
      ]
    },
    {
      "cell_type": "code",
      "source": [
        "# Basic Descriptive Statistics\n",
        "print(\"\\nDescriptive Statistics for Provider Data:\")\n",
        "print(provider_data['Rating'].describe())\n"
      ],
      "metadata": {
        "colab": {
          "base_uri": "https://localhost:8080/"
        },
        "id": "0RAITGVpzPbd",
        "outputId": "c2072eb2-13e8-4523-874d-b449fbc6ea2a"
      },
      "execution_count": null,
      "outputs": [
        {
          "output_type": "stream",
          "name": "stdout",
          "text": [
            "\n",
            "Descriptive Statistics for Provider Data:\n",
            "count    50.000000\n",
            "mean      2.996000\n",
            "std       1.073419\n",
            "min       1.100000\n",
            "25%       2.150000\n",
            "50%       3.000000\n",
            "75%       3.900000\n",
            "max       4.900000\n",
            "Name: Rating, dtype: float64\n"
          ]
        }
      ]
    },
    {
      "cell_type": "markdown",
      "source": [
        "##Recommendation System\n",
        "\n",
        "\n",
        "*  TF-IDF Vectorization: Converts user preferences and provider expertise into numerical vectors.\n",
        "*  Similarity Computation: Calculates the cosine similarity between user preferences and provider expertise to find the best matches.\n",
        "*  Recommendation Function: Filters providers by region and ranks them based on similarity scores to recommend the top providers.\n",
        "\n",
        "\n",
        "\n"
      ],
      "metadata": {
        "id": "aU2ck0gpQB82"
      }
    },
    {
      "cell_type": "code",
      "source": [
        "from sklearn.feature_extraction.text import TfidfVectorizer\n",
        "from sklearn.metrics.pairwise import cosine_similarity\n",
        "\n",
        "# TF-IDF Vectorization\n",
        "vectorizer = TfidfVectorizer()\n",
        "user_preferences = vectorizer.fit_transform(user_data['Preferences'])\n",
        "provider_expertise = vectorizer.transform(provider_data['Expertise'])\n",
        "\n",
        "# Compute Similarity Matrix\n",
        "def compute_similarity(user_id):\n",
        "    user = user_data[user_data['User_ID'] == user_id].iloc[0]\n",
        "    user_region = user['Region']\n",
        "\n",
        "    # Get all providers in the same region\n",
        "    regional_providers = provider_data[provider_data['Region'] == user_region]\n",
        "\n",
        "    if regional_providers.empty:\n",
        "        return pd.DataFrame()  # No providers available in the region\n",
        "\n",
        "    # Vectorize regional providers\n",
        "    regional_provider_expertise = vectorizer.transform(regional_providers['Expertise'])\n",
        "\n",
        "    # Compute similarity for regional providers\n",
        "    user_preferences_vec = vectorizer.transform([user['Preferences']])\n",
        "    regional_similarity_scores = cosine_similarity(user_preferences_vec, regional_provider_expertise)\n",
        "\n",
        "    # Get top providers based on similarity\n",
        "    top_indices = regional_similarity_scores[0].argsort()[::-1]\n",
        "    top_providers = regional_providers.iloc[top_indices]\n",
        "\n",
        "    return top_providers\n",
        "\n",
        "# Example usage\n",
        "user_id = 1\n",
        "recommended_providers_region = compute_similarity(user_id)\n",
        "print(\"\\nRecommended Providers for User\", user_id, \"in the Same Region:\")\n",
        "print(recommended_providers_region)\n"
      ],
      "metadata": {
        "colab": {
          "base_uri": "https://localhost:8080/"
        },
        "id": "pieroA_IrisO",
        "outputId": "8f244caf-d159-4415-99c9-8cb8ba3a5c92"
      },
      "execution_count": null,
      "outputs": [
        {
          "output_type": "stream",
          "name": "stdout",
          "text": [
            "\n",
            "Recommended Providers for User 1 in the Same Region:\n",
            "Empty DataFrame\n",
            "Columns: []\n",
            "Index: []\n"
          ]
        }
      ]
    },
    {
      "cell_type": "markdown",
      "source": [
        "\n",
        "\n",
        "\n",
        "\n",
        "\n",
        "\n",
        "\n",
        "\n",
        "*This analysis was conducted using a synthetic dataset with limited records. As a result, a thorough evaluation has not been performed. For a more complete assessment, real, larger datasets would be necessary to gain a fuller understanding of the data patterns and relationships.*"
      ],
      "metadata": {
        "id": "KIeyex6U2WVn"
      }
    }
  ]
}